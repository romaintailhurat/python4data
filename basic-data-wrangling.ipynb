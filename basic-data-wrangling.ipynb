{
 "cells": [
  {
   "cell_type": "code",
   "execution_count": 15,
   "metadata": {},
   "outputs": [],
   "source": [
    "from requests import get\n",
    "from zipfile import ZipFile\n",
    "import pandas as pd"
   ]
  },
  {
   "cell_type": "markdown",
   "metadata": {},
   "source": [
    "# Accès aux données\n",
    "Pour simplifier cette étape, on va ici aller chercher des données disponibles sur le site de l'Insee"
   ]
  },
  {
   "cell_type": "code",
   "execution_count": 6,
   "metadata": {},
   "outputs": [],
   "source": [
    "URLS = {\"deces\": \"https://www.insee.fr/fr/statistiques/fichier/4801913/etatcivil2019_dec2019_csv.zip\"}"
   ]
  },
  {
   "cell_type": "code",
   "execution_count": 11,
   "metadata": {},
   "outputs": [],
   "source": [
    "resp = get(URLS[\"deces\"])\n",
    "raw = resp.content"
   ]
  },
  {
   "cell_type": "code",
   "execution_count": null,
   "metadata": {},
   "outputs": [],
   "source": [
    "with open(\"deces.zip\", \"wb\") as zip_file:\n",
    "    zip_file.write(raw)"
   ]
  },
  {
   "cell_type": "markdown",
   "metadata": {},
   "source": [
    "# Ouverture du fichier source\n",
    "..."
   ]
  },
  {
   "cell_type": "code",
   "execution_count": 19,
   "metadata": {},
   "outputs": [
    {
     "name": "stderr",
     "output_type": "stream",
     "text": [
      "/opt/conda/lib/python3.7/site-packages/IPython/core/interactiveshell.py:3063: DtypeWarning: Columns (3,9,12,13) have mixed types.Specify dtype option on import or set low_memory=False.\n",
      "  interactivity=interactivity, compiler=compiler, result=result)\n"
     ]
    },
    {
     "data": {
      "text/html": [
       "<div>\n",
       "<style scoped>\n",
       "    .dataframe tbody tr th:only-of-type {\n",
       "        vertical-align: middle;\n",
       "    }\n",
       "\n",
       "    .dataframe tbody tr th {\n",
       "        vertical-align: top;\n",
       "    }\n",
       "\n",
       "    .dataframe thead th {\n",
       "        text-align: right;\n",
       "    }\n",
       "</style>\n",
       "<table border=\"1\" class=\"dataframe\">\n",
       "  <thead>\n",
       "    <tr style=\"text-align: right;\">\n",
       "      <th></th>\n",
       "      <th>ADEC</th>\n",
       "      <th>MDEC</th>\n",
       "      <th>JDEC</th>\n",
       "      <th>DEPDEC</th>\n",
       "      <th>LIEUDECR</th>\n",
       "      <th>SEXE</th>\n",
       "      <th>ANAIS</th>\n",
       "      <th>MNAIS</th>\n",
       "      <th>JNAIS</th>\n",
       "      <th>DEPNAIS</th>\n",
       "      <th>ACTIV</th>\n",
       "      <th>INDNAT</th>\n",
       "      <th>DEPDOM</th>\n",
       "      <th>COMDOM</th>\n",
       "      <th>TUDOM</th>\n",
       "      <th>TUCOM</th>\n",
       "      <th>ETAMAT</th>\n",
       "    </tr>\n",
       "  </thead>\n",
       "  <tbody>\n",
       "    <tr>\n",
       "      <th>0</th>\n",
       "      <td>2019</td>\n",
       "      <td>11</td>\n",
       "      <td>30</td>\n",
       "      <td>01</td>\n",
       "      <td>EHC</td>\n",
       "      <td>2</td>\n",
       "      <td>1940</td>\n",
       "      <td>7</td>\n",
       "      <td>28</td>\n",
       "      <td>99</td>\n",
       "      <td>1</td>\n",
       "      <td>2</td>\n",
       "      <td>99</td>\n",
       "      <td>NaN</td>\n",
       "      <td>9</td>\n",
       "      <td>NaN</td>\n",
       "      <td>3</td>\n",
       "    </tr>\n",
       "    <tr>\n",
       "      <th>1</th>\n",
       "      <td>2019</td>\n",
       "      <td>1</td>\n",
       "      <td>8</td>\n",
       "      <td>01</td>\n",
       "      <td>EHC</td>\n",
       "      <td>1</td>\n",
       "      <td>1944</td>\n",
       "      <td>9</td>\n",
       "      <td>21</td>\n",
       "      <td>49</td>\n",
       "      <td>1</td>\n",
       "      <td>1</td>\n",
       "      <td>99</td>\n",
       "      <td>NaN</td>\n",
       "      <td>9</td>\n",
       "      <td>NaN</td>\n",
       "      <td>4</td>\n",
       "    </tr>\n",
       "    <tr>\n",
       "      <th>2</th>\n",
       "      <td>2019</td>\n",
       "      <td>2</td>\n",
       "      <td>9</td>\n",
       "      <td>01</td>\n",
       "      <td>AUT</td>\n",
       "      <td>1</td>\n",
       "      <td>1954</td>\n",
       "      <td>3</td>\n",
       "      <td>15</td>\n",
       "      <td>99</td>\n",
       "      <td>1</td>\n",
       "      <td>2</td>\n",
       "      <td>99</td>\n",
       "      <td>NaN</td>\n",
       "      <td>9</td>\n",
       "      <td>NaN</td>\n",
       "      <td>2</td>\n",
       "    </tr>\n",
       "    <tr>\n",
       "      <th>3</th>\n",
       "      <td>2019</td>\n",
       "      <td>3</td>\n",
       "      <td>1</td>\n",
       "      <td>01</td>\n",
       "      <td>AUT</td>\n",
       "      <td>1</td>\n",
       "      <td>1966</td>\n",
       "      <td>2</td>\n",
       "      <td>24</td>\n",
       "      <td>99</td>\n",
       "      <td>3</td>\n",
       "      <td>2</td>\n",
       "      <td>99</td>\n",
       "      <td>NaN</td>\n",
       "      <td>9</td>\n",
       "      <td>NaN</td>\n",
       "      <td>1</td>\n",
       "    </tr>\n",
       "    <tr>\n",
       "      <th>4</th>\n",
       "      <td>2019</td>\n",
       "      <td>2</td>\n",
       "      <td>4</td>\n",
       "      <td>01</td>\n",
       "      <td>AUT</td>\n",
       "      <td>2</td>\n",
       "      <td>1974</td>\n",
       "      <td>5</td>\n",
       "      <td>9</td>\n",
       "      <td>99</td>\n",
       "      <td>2</td>\n",
       "      <td>2</td>\n",
       "      <td>99</td>\n",
       "      <td>NaN</td>\n",
       "      <td>9</td>\n",
       "      <td>NaN</td>\n",
       "      <td>1</td>\n",
       "    </tr>\n",
       "  </tbody>\n",
       "</table>\n",
       "</div>"
      ],
      "text/plain": [
       "   ADEC  MDEC  JDEC DEPDEC LIEUDECR  SEXE  ANAIS  MNAIS  JNAIS DEPNAIS  ACTIV  \\\n",
       "0  2019    11    30     01      EHC     2   1940      7     28      99      1   \n",
       "1  2019     1     8     01      EHC     1   1944      9     21      49      1   \n",
       "2  2019     2     9     01      AUT     1   1954      3     15      99      1   \n",
       "3  2019     3     1     01      AUT     1   1966      2     24      99      3   \n",
       "4  2019     2     4     01      AUT     2   1974      5      9      99      2   \n",
       "\n",
       "   INDNAT DEPDOM COMDOM  TUDOM TUCOM  ETAMAT  \n",
       "0       2     99    NaN      9   NaN       3  \n",
       "1       1     99    NaN      9   NaN       4  \n",
       "2       2     99    NaN      9   NaN       2  \n",
       "3       2     99    NaN      9   NaN       1  \n",
       "4       2     99    NaN      9   NaN       1  "
      ]
     },
     "execution_count": 19,
     "metadata": {},
     "output_type": "execute_result"
    }
   ],
   "source": [
    "deces_zip = ZipFile(\"deces.zip\")\n",
    "df_deces = pd.read_csv(deces_zip.open(\"FD_DEC_2019.csv\"), sep=\";\")\n",
    "df_deces.head()"
   ]
  },
  {
   "cell_type": "markdown",
   "metadata": {},
   "source": [
    "# Sélection\n",
    "..."
   ]
  },
  {
   "cell_type": "code",
   "execution_count": 23,
   "metadata": {},
   "outputs": [
    {
     "data": {
      "text/plain": [
       "['ADEC',\n",
       " 'MDEC',\n",
       " 'JDEC',\n",
       " 'DEPDEC',\n",
       " 'LIEUDECR',\n",
       " 'SEXE',\n",
       " 'ANAIS',\n",
       " 'MNAIS',\n",
       " 'JNAIS',\n",
       " 'DEPNAIS',\n",
       " 'ACTIV',\n",
       " 'INDNAT',\n",
       " 'DEPDOM',\n",
       " 'COMDOM',\n",
       " 'TUDOM',\n",
       " 'TUCOM',\n",
       " 'ETAMAT']"
      ]
     },
     "execution_count": 23,
     "metadata": {},
     "output_type": "execute_result"
    }
   ],
   "source": [
    "colonnes = df_deces.columns\n",
    "[col for col in colonnes]"
   ]
  },
  {
   "cell_type": "code",
   "execution_count": 26,
   "metadata": {},
   "outputs": [
    {
     "data": {
      "text/plain": [
       "0         2019\n",
       "1         2019\n",
       "2         2019\n",
       "3         2019\n",
       "4         2019\n",
       "          ... \n",
       "613238    2019\n",
       "613239    2019\n",
       "613240    2019\n",
       "613241    2019\n",
       "613242    2019\n",
       "Name: ADEC, Length: 613243, dtype: int64"
      ]
     },
     "execution_count": 26,
     "metadata": {},
     "output_type": "execute_result"
    }
   ],
   "source": [
    "df_deces[\"ADEC\"]"
   ]
  },
  {
   "cell_type": "code",
   "execution_count": 28,
   "metadata": {},
   "outputs": [
    {
     "data": {
      "text/html": [
       "<div>\n",
       "<style scoped>\n",
       "    .dataframe tbody tr th:only-of-type {\n",
       "        vertical-align: middle;\n",
       "    }\n",
       "\n",
       "    .dataframe tbody tr th {\n",
       "        vertical-align: top;\n",
       "    }\n",
       "\n",
       "    .dataframe thead th {\n",
       "        text-align: right;\n",
       "    }\n",
       "</style>\n",
       "<table border=\"1\" class=\"dataframe\">\n",
       "  <thead>\n",
       "    <tr style=\"text-align: right;\">\n",
       "      <th></th>\n",
       "      <th>ADEC</th>\n",
       "      <th>ACTIV</th>\n",
       "    </tr>\n",
       "  </thead>\n",
       "  <tbody>\n",
       "    <tr>\n",
       "      <th>0</th>\n",
       "      <td>2019</td>\n",
       "      <td>1</td>\n",
       "    </tr>\n",
       "    <tr>\n",
       "      <th>1</th>\n",
       "      <td>2019</td>\n",
       "      <td>1</td>\n",
       "    </tr>\n",
       "    <tr>\n",
       "      <th>2</th>\n",
       "      <td>2019</td>\n",
       "      <td>1</td>\n",
       "    </tr>\n",
       "    <tr>\n",
       "      <th>3</th>\n",
       "      <td>2019</td>\n",
       "      <td>3</td>\n",
       "    </tr>\n",
       "    <tr>\n",
       "      <th>4</th>\n",
       "      <td>2019</td>\n",
       "      <td>2</td>\n",
       "    </tr>\n",
       "    <tr>\n",
       "      <th>...</th>\n",
       "      <td>...</td>\n",
       "      <td>...</td>\n",
       "    </tr>\n",
       "    <tr>\n",
       "      <th>613238</th>\n",
       "      <td>2019</td>\n",
       "      <td>1</td>\n",
       "    </tr>\n",
       "    <tr>\n",
       "      <th>613239</th>\n",
       "      <td>2019</td>\n",
       "      <td>3</td>\n",
       "    </tr>\n",
       "    <tr>\n",
       "      <th>613240</th>\n",
       "      <td>2019</td>\n",
       "      <td>1</td>\n",
       "    </tr>\n",
       "    <tr>\n",
       "      <th>613241</th>\n",
       "      <td>2019</td>\n",
       "      <td>1</td>\n",
       "    </tr>\n",
       "    <tr>\n",
       "      <th>613242</th>\n",
       "      <td>2019</td>\n",
       "      <td>3</td>\n",
       "    </tr>\n",
       "  </tbody>\n",
       "</table>\n",
       "<p>613243 rows × 2 columns</p>\n",
       "</div>"
      ],
      "text/plain": [
       "        ADEC  ACTIV\n",
       "0       2019      1\n",
       "1       2019      1\n",
       "2       2019      1\n",
       "3       2019      3\n",
       "4       2019      2\n",
       "...      ...    ...\n",
       "613238  2019      1\n",
       "613239  2019      3\n",
       "613240  2019      1\n",
       "613241  2019      1\n",
       "613242  2019      3\n",
       "\n",
       "[613243 rows x 2 columns]"
      ]
     },
     "execution_count": 28,
     "metadata": {},
     "output_type": "execute_result"
    }
   ],
   "source": [
    "df_deces[[\"ADEC\", \"ACTIV\"]]"
   ]
  }
 ],
 "metadata": {
  "kernelspec": {
   "display_name": "Python 3",
   "language": "python",
   "name": "python3"
  },
  "language_info": {
   "codemirror_mode": {
    "name": "ipython",
    "version": 3
   },
   "file_extension": ".py",
   "mimetype": "text/x-python",
   "name": "python",
   "nbconvert_exporter": "python",
   "pygments_lexer": "ipython3",
   "version": "3.7.6"
  }
 },
 "nbformat": 4,
 "nbformat_minor": 4
}
